from datetime import datetime
from collections import defaultdict
import time

import httpx
async def get_Zonal_info_list(access_token):
    """Gets zonal booking information."""
    url = f"https://flexibook.boschassociatearena.com/api/flexi/GetListZonalBooking"
    headers = {'Authorization': f'Bearer {access_token}'}
    try:
        async with httpx.AsyncClient() as client:
            response = await client.get(url, headers=headers)
            response.raise_for_status()
            data = response.json()
            return data
    except Exception as e:
        print(f"Error getting zonal info: {str(e)}")
        return None

def preprocess_zonals(zonal_list):
    seat_to_zonals = defaultdict(list)
    for z in zonal_list:
        try:
            from_date = datetime.fromisoformat(z["blockFromDate"])
            to_date = datetime.fromisoformat(z["blockToDate"])
        except:
            continue
        emp_list = set(e.strip() for e in z["listEmployeeNumber"].split(",") if e.strip())
        seat_list = set(s.strip() for s in z["listOfSeat"].split(",") if s.strip())
        for seat_id in seat_list:
            seat_to_zonals[seat_id].append({
                "emp_set": emp_list,
                "from_date": from_date,
                "to_date": to_date
            })
    return seat_to_zonals


def get_filtered_workspace_list(book_date, current_employee_number, get_booking_for_web_list, zonal_list):
    if isinstance(book_date, str):
        book_date = datetime.strptime(book_date, "%Y-%m-%d")

    seat_to_zonals = preprocess_zonals(zonal_list)
    result = []
    # print(":::::::::::::::::::get booking for web list:::::::::::::::",get_booking_for_web_list)
    for seat in get_booking_for_web_list["asscocicateInfoList"]:
        # print("seat in zonal",seat)
        workspace_id = seat.get("workspaceId")
        worspace_name = seat.get("worspaceName")
        is_flexible = seat.get("isFlexible")
        is_valid = seat.get("isValid")
        work_space_status_id = seat.get("workspaceStatusId")
        you_cannot_book_this_zonnal = False

        zonals = seat_to_zonals.get(workspace_id, [])

        for z in zonals:
            if z["from_date"] <= book_date <= z["to_date"]:
                if str(current_employee_number) not in z["emp_set"]:
                    you_cannot_book_this_zonnal = True
                    break
        result.append({
            "workspaceId": int(workspace_id),
            "worspaceName": worspace_name,
            "isFlexible": is_flexible,
            "isValid": is_valid,
            "youCannotBookThisZonnal": you_cannot_book_this_zonnal,# true when this seat belong to zonnal and you do not have permission to book.
            "workspaceStatusId": work_space_status_id
        })
    return result

async def get_floor_booking_info(access_token: str, unit_id: str, date_to_check: datetime):
    """Gets booking information for a floor (unit) on a specific date."""
    print(f"Getting booking info for unit {unit_id} on {date_to_check.strftime('%Y-%m-%d')}")
    formatted_date_for_api = date_to_check.strftime("%Y%%2F%m%%2F%d")
    # print("line 291 ",formatted_date_for_api)
    url = f"https://flexibook.boschassociatearena.com/api/Flexi/GetBookingForWeb4Days?unitId={unit_id}&typeID=5&dateCheck={formatted_date_for_api}"
    headers = {'Authorization': f'Bearer {access_token}'}
    try:
        async with httpx.AsyncClient() as client:
            response = await client.get(url, headers=headers)
            # print(":::::::::::::::::::::::::get_floor_booking_info response::::::::::::::::::::::::",response)
            import json
            # print("line 392",json.dumps(response.json(), indent=4))
            response.raise_for_status()
            data = response.json()
            print("Successfully fetched floor booking info.")
            return data
    except Exception as e:
        print(f"line 399 Error getting booking info for unit {unit_id}: {str(e)}")
        return None

book_date = "2025-08-10"
book_datetime = datetime.strptime(book_date, "%Y-%m-%d")
current_employee_number = "30579552"
unit_id = 119
get_booking_for_web_list = await get_floor_booking_info(access_token, unit_id, book_datetime)
zonal_list = await get_Zonal_info_list(access_token)

res= get_filtered_workspace_list(book_date, current_employee_number, get_booking_for_web_list, zonal_list)
